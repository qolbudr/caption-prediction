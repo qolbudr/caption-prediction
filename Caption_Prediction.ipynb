{
  "nbformat": 4,
  "nbformat_minor": 0,
  "metadata": {
    "colab": {
      "name": "Caption Prediction.ipynb",
      "provenance": [],
      "authorship_tag": "ABX9TyNIUZ6Ri1ohVhOzUd6IUG+Y",
      "include_colab_link": true
    },
    "kernelspec": {
      "name": "python3",
      "display_name": "Python 3"
    },
    "language_info": {
      "name": "python"
    }
  },
  "cells": [
    {
      "cell_type": "markdown",
      "metadata": {
        "id": "view-in-github",
        "colab_type": "text"
      },
      "source": [
        "<a href=\"https://colab.research.google.com/github/qolbudr/caption-prediction/blob/main/Caption_Prediction.ipynb\" target=\"_parent\"><img src=\"https://colab.research.google.com/assets/colab-badge.svg\" alt=\"Open In Colab\"/></a>"
      ]
    },
    {
      "cell_type": "code",
      "metadata": {
        "colab": {
          "base_uri": "https://localhost:8080/"
        },
        "id": "C2gi12mUyRSG",
        "outputId": "0691d88e-a8ae-4c83-f46f-3e8ab1786406"
      },
      "source": [
        "import pandas as pd\n",
        "from sklearn.feature_extraction.text import TfidfVectorizer\n",
        "\n",
        "data = pd.read_csv('1.csv');\n",
        "data.drop(columns=' hashtag', axis=1, inplace=True)\n",
        "data.info()"
      ],
      "execution_count": null,
      "outputs": [
        {
          "output_type": "stream",
          "text": [
            "<class 'pandas.core.frame.DataFrame'>\n",
            "RangeIndex: 3810 entries, 0 to 3809\n",
            "Data columns (total 1 columns):\n",
            " #   Column   Non-Null Count  Dtype \n",
            "---  ------   --------------  ----- \n",
            " 0   caption  3810 non-null   object\n",
            "dtypes: object(1)\n",
            "memory usage: 29.9+ KB\n"
          ],
          "name": "stdout"
        }
      ]
    },
    {
      "cell_type": "code",
      "metadata": {
        "colab": {
          "base_uri": "https://localhost:8080/"
        },
        "id": "HkJt8g8Azeuv",
        "outputId": "9cf4cf56-e936-471e-cb97-ee0e588bdffc"
      },
      "source": [
        "from sklearn.cluster import KMeans\n",
        "\n",
        "tf_idf_vectorizor = TfidfVectorizer(norm='l1', lowercase=True, max_features = 20000)\n",
        "vec = tf_idf_vectorizor.fit(data['caption'])\n",
        "vectorized = vec.transform(data['caption'])\n",
        "\n",
        "# print(tf_idf)\n",
        "\n",
        "km = KMeans(n_clusters=20).fit(vectorized)\n",
        "print(km.cluster_centers_)"
      ],
      "execution_count": null,
      "outputs": [
        {
          "output_type": "stream",
          "text": [
            "[[0.00103235 0.00068941 0.00015601 ... 0.00059293 0.00027194 0.        ]\n",
            " [0.         0.         0.         ... 0.         0.         0.        ]\n",
            " [0.         0.         0.         ... 0.         0.         0.        ]\n",
            " ...\n",
            " [0.         0.         0.         ... 0.         0.         0.        ]\n",
            " [0.         0.         0.         ... 0.         0.         0.        ]\n",
            " [0.         0.         0.         ... 0.         0.         0.00015246]]\n"
          ],
          "name": "stdout"
        }
      ]
    },
    {
      "cell_type": "code",
      "metadata": {
        "colab": {
          "base_uri": "https://localhost:8080/",
          "height": 419
        },
        "id": "i1yzPRD_3iEQ",
        "outputId": "04e9ef32-2bea-4940-c108-8a539c910497"
      },
      "source": [
        "data[\"kluster\"] = km.labels_\n",
        "data\n",
        "\n",
        "#data.to_csv('data.csv')"
      ],
      "execution_count": null,
      "outputs": [
        {
          "output_type": "execute_result",
          "data": {
            "text/html": [
              "<div>\n",
              "<style scoped>\n",
              "    .dataframe tbody tr th:only-of-type {\n",
              "        vertical-align: middle;\n",
              "    }\n",
              "\n",
              "    .dataframe tbody tr th {\n",
              "        vertical-align: top;\n",
              "    }\n",
              "\n",
              "    .dataframe thead th {\n",
              "        text-align: right;\n",
              "    }\n",
              "</style>\n",
              "<table border=\"1\" class=\"dataframe\">\n",
              "  <thead>\n",
              "    <tr style=\"text-align: right;\">\n",
              "      <th></th>\n",
              "      <th>caption</th>\n",
              "      <th>kluster</th>\n",
              "    </tr>\n",
              "  </thead>\n",
              "  <tbody>\n",
              "    <tr>\n",
              "      <th>0</th>\n",
              "      <td>Kata siapa warna pink cuma bisa dipakai buat c...</td>\n",
              "      <td>0</td>\n",
              "    </tr>\n",
              "    <tr>\n",
              "      <th>1</th>\n",
              "      <td>Colour up your day with Erigo New Short Shirt ...</td>\n",
              "      <td>3</td>\n",
              "    </tr>\n",
              "    <tr>\n",
              "      <th>2</th>\n",
              "      <td>New Short Shirt Series is out now!!Yuk tampil ...</td>\n",
              "      <td>4</td>\n",
              "    </tr>\n",
              "    <tr>\n",
              "      <th>3</th>\n",
              "      <td>Waktunya belanja untuk outfit Lebaran nanti✨Bt...</td>\n",
              "      <td>0</td>\n",
              "    </tr>\n",
              "    <tr>\n",
              "      <th>4</th>\n",
              "      <td>Siap-siap pasang alarm kalian🔥New Short Shirt ...</td>\n",
              "      <td>0</td>\n",
              "    </tr>\n",
              "    <tr>\n",
              "      <th>...</th>\n",
              "      <td>...</td>\n",
              "      <td>...</td>\n",
              "    </tr>\n",
              "    <tr>\n",
              "      <th>3805</th>\n",
              "      <td>Hari ke dua puasa udah kerasa berat? Eits haru...</td>\n",
              "      <td>19</td>\n",
              "    </tr>\n",
              "    <tr>\n",
              "      <th>3806</th>\n",
              "      <td>Ramadhan dimulaaaai!!Ada produk baru isai nih ...</td>\n",
              "      <td>19</td>\n",
              "    </tr>\n",
              "    <tr>\n",
              "      <th>3807</th>\n",
              "      <td>Hype!!!Produk 『Nandemonaiya』ini langsung trend...</td>\n",
              "      <td>19</td>\n",
              "    </tr>\n",
              "    <tr>\n",
              "      <th>3808</th>\n",
              "      <td>〘うれしくてなくのは かなしくてわらうのは きみのこころがきみを おいこしたんだよ〙\"Ure...</td>\n",
              "      <td>19</td>\n",
              "    </tr>\n",
              "    <tr>\n",
              "      <th>3809</th>\n",
              "      <td>Pernah gak nangis terharu ketika senang? Atau ...</td>\n",
              "      <td>19</td>\n",
              "    </tr>\n",
              "  </tbody>\n",
              "</table>\n",
              "<p>3810 rows × 2 columns</p>\n",
              "</div>"
            ],
            "text/plain": [
              "                                                caption  kluster\n",
              "0     Kata siapa warna pink cuma bisa dipakai buat c...        0\n",
              "1     Colour up your day with Erigo New Short Shirt ...        3\n",
              "2     New Short Shirt Series is out now!!Yuk tampil ...        4\n",
              "3     Waktunya belanja untuk outfit Lebaran nanti✨Bt...        0\n",
              "4     Siap-siap pasang alarm kalian🔥New Short Shirt ...        0\n",
              "...                                                 ...      ...\n",
              "3805  Hari ke dua puasa udah kerasa berat? Eits haru...       19\n",
              "3806  Ramadhan dimulaaaai!!Ada produk baru isai nih ...       19\n",
              "3807  Hype!!!Produk 『Nandemonaiya』ini langsung trend...       19\n",
              "3808  〘うれしくてなくのは かなしくてわらうのは きみのこころがきみを おいこしたんだよ〙\"Ure...       19\n",
              "3809  Pernah gak nangis terharu ketika senang? Atau ...       19\n",
              "\n",
              "[3810 rows x 2 columns]"
            ]
          },
          "metadata": {
            "tags": []
          },
          "execution_count": 150
        }
      ]
    },
    {
      "cell_type": "code",
      "metadata": {
        "id": "TaXAidpa5ii0"
      },
      "source": [
        "import pickle\n",
        "pickle.dump(km, open(\"save.pkl\", \"wb\"))"
      ],
      "execution_count": null,
      "outputs": []
    },
    {
      "cell_type": "code",
      "metadata": {
        "colab": {
          "base_uri": "https://localhost:8080/"
        },
        "id": "eRwjV9GP7MPK",
        "outputId": "6494e4bd-c365-4e34-888c-c9df61726177"
      },
      "source": [
        "prediction = km.predict(vec.transform(['Kaos typography']))\n",
        "print(prediction)"
      ],
      "execution_count": null,
      "outputs": [
        {
          "output_type": "stream",
          "text": [
            "[18]\n"
          ],
          "name": "stdout"
        }
      ]
    }
  ]
}